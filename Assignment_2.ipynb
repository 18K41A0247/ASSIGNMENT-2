{
  "nbformat": 4,
  "nbformat_minor": 0,
  "metadata": {
    "colab": {
      "name": "Assignment 2.ipynb",
      "provenance": [],
      "authorship_tag": "ABX9TyMZ5rX8uvL4R7lpn9m9q5s/",
      "include_colab_link": true
    },
    "kernelspec": {
      "name": "python3",
      "display_name": "Python 3"
    }
  },
  "cells": [
    {
      "cell_type": "markdown",
      "metadata": {
        "id": "view-in-github",
        "colab_type": "text"
      },
      "source": [
        "<a href=\"https://colab.research.google.com/github/18K41A0247/ASSIGNMENT-2/blob/master/Assignment_2.ipynb\" target=\"_parent\"><img src=\"https://colab.research.google.com/assets/colab-badge.svg\" alt=\"Open In Colab\"/></a>"
      ]
    },
    {
      "cell_type": "markdown",
      "metadata": {
        "id": "ttTiy8Vipk48",
        "colab_type": "text"
      },
      "source": [
        "1.\tArea of Triangle :\n",
        "Given the lengths of three sides of a triangle, calculate the area of the triangle. \n"
      ]
    },
    {
      "cell_type": "code",
      "metadata": {
        "id": "v_4Pl1dGpvGD",
        "colab_type": "code",
        "colab": {
          "base_uri": "https://localhost:8080/",
          "height": 84
        },
        "outputId": "971330aa-14b8-4ca7-c74a-f7f3315d558c"
      },
      "source": [
        "s1=int(input(\"enter length of first side:\"))\n",
        "s2=int(input(\"enter length of second side:\"))\n",
        "s3=int(input(\"enter length of third side:\"))\n",
        "p=(s1+s2+s3)/2\n",
        "area=(p*(p-s1)*(p-s2)*(p-s3))**(1/2)\n",
        "print(\"area of triangle=\",area)"
      ],
      "execution_count": null,
      "outputs": [
        {
          "output_type": "stream",
          "text": [
            "enter length of first side:10\n",
            "enter length of second side:20\n",
            "enter length of third side:15\n",
            "area of triangle= 72.61843774138907\n"
          ],
          "name": "stdout"
        }
      ]
    },
    {
      "cell_type": "markdown",
      "metadata": {
        "id": "inwdq7XJqqoi",
        "colab_type": "text"
      },
      "source": [
        "2.\tTake a string from end user and check if the value is palindrome or not"
      ]
    },
    {
      "cell_type": "code",
      "metadata": {
        "id": "-HlauBAvqu_q",
        "colab_type": "code",
        "colab": {
          "base_uri": "https://localhost:8080/",
          "height": 50
        },
        "outputId": "71096403-f469-4823-e22b-0a5c07023058"
      },
      "source": [
        "n=str(input(\"enter a string : \"))\n",
        "m=\"\".join(reversed(n))\n",
        "if n==m:\n",
        "  print(\"It is a palindrome\")\n",
        "else:\n",
        "  print(\"It is not a palindrome\")"
      ],
      "execution_count": null,
      "outputs": [
        {
          "output_type": "stream",
          "text": [
            "enter a string : malayalam\n",
            "It is a palindrome\n"
          ],
          "name": "stdout"
        }
      ]
    },
    {
      "cell_type": "markdown",
      "metadata": {
        "id": "UOXXiEOvrLZq",
        "colab_type": "text"
      },
      "source": [
        "3.\tWrite a program that reads a year from the user and displays a message \n",
        "Indicating whether or not it is a leap year.\n"
      ]
    },
    {
      "cell_type": "code",
      "metadata": {
        "id": "YmM1lt2JrQfy",
        "colab_type": "code",
        "colab": {
          "base_uri": "https://localhost:8080/",
          "height": 50
        },
        "outputId": "9abc9e30-118a-472d-ce00-892ffbff221c"
      },
      "source": [
        "year=int(input(\"enter a year : \"))\n",
        "if year%4==0:\n",
        "  print(\"It is a leap year\")\n",
        "else:\n",
        "  print(\"It is not a leap year\")"
      ],
      "execution_count": null,
      "outputs": [
        {
          "output_type": "stream",
          "text": [
            "enter a year : 2000\n",
            "It is a leap year\n"
          ],
          "name": "stdout"
        }
      ]
    },
    {
      "cell_type": "markdown",
      "metadata": {
        "id": "AS7TBZuWraxa",
        "colab_type": "text"
      },
      "source": [
        "4.\t Space To Hyphen problem \n",
        "Take a string as input, and replaces spaces “ “  with hyphens “-”, and returns a string.\n"
      ]
    },
    {
      "cell_type": "code",
      "metadata": {
        "id": "mvf8qkJxrjVy",
        "colab_type": "code",
        "colab": {
          "base_uri": "https://localhost:8080/",
          "height": 50
        },
        "outputId": "40bb0bd7-9f28-47f1-c38c-f9c27858981e"
      },
      "source": [
        "n=str(input(\"enter a string : \"))\n",
        "m=n.replace(\" \",\"-\")\n",
        "print(\"string after replacing space with hyphen : \",m)"
      ],
      "execution_count": null,
      "outputs": [
        {
          "output_type": "stream",
          "text": [
            "enter a string : This program converts spaces into hyphen\n",
            "string after replacing space with hyphen :  This-program-converts-spaces-into-hyphen\n"
          ],
          "name": "stdout"
        }
      ]
    },
    {
      "cell_type": "markdown",
      "metadata": {
        "id": "BLAdIKOQr9Ny",
        "colab_type": "text"
      },
      "source": [
        "5.\tUnique Sort problem \n",
        "Take a string as input that accepts a comma separated sequence of words as input and prints the unique words in sorted form (alphanumerically).\n"
      ]
    },
    {
      "cell_type": "code",
      "metadata": {
        "id": "nVaYhTHFsBDb",
        "colab_type": "code",
        "colab": {
          "base_uri": "https://localhost:8080/",
          "height": 50
        },
        "outputId": "fa2b438c-a4c2-4aae-b736-4c21036018b8"
      },
      "source": [
        "item=input(\"enter the items : \")\n",
        "item=item.replace(\",\",\" \")\n",
        "word=item.split()\n",
        "word.sort()\n",
        "for i in range (len(word)):\n",
        "  if word[i]==word[i+1]:\n",
        "    del word[i]\n",
        "    if i==((len(word))-1):\n",
        "     break\n",
        "print(','.join(word))"
      ],
      "execution_count": null,
      "outputs": [
        {
          "output_type": "stream",
          "text": [
            "enter the items : orange, white, red, cyan, green, magenta, cyan, pink, white\n",
            "cyan,green,magenta,orange,pink,red,white\n"
          ],
          "name": "stdout"
        }
      ]
    },
    {
      "cell_type": "markdown",
      "metadata": {
        "id": "d5c7hgteszSi",
        "colab_type": "text"
      },
      "source": [
        "6.\tTax Calculator\n",
        "Ask the user for their monthly salary. Calculate whether they have to pay tax and if so, how much is that amount .Print the result\n",
        " \n"
      ]
    },
    {
      "cell_type": "code",
      "metadata": {
        "id": "mNIrutR0s6Yp",
        "colab_type": "code",
        "colab": {
          "base_uri": "https://localhost:8080/",
          "height": 50
        },
        "outputId": "3f052941-8838-47eb-aa15-af34b104218d"
      },
      "source": [
        "s=int(input(\"enter your salary : \"))\n",
        "t={1:0,2:0.05,3:0.1,4:0.15,5:0.2,6:0.25,7:0.3}\n",
        "if s<=250000:\n",
        "  i=1\n",
        "elif 250001<=s<=500000:\n",
        "  i=2\n",
        "elif 500001<=s<=750000:\n",
        "  i=3\n",
        "elif 750001<=s<=1000000:\n",
        "  i=4\n",
        "elif 1000001<=s<=1250000:\n",
        "  i=5\n",
        "elif 1250001<=s<=1500000:\n",
        "  i=6\n",
        "elif s>1500000:\n",
        "  i=7\n",
        "tax=s*t[i]\n",
        "print(\"total tax=\",tax)"
      ],
      "execution_count": null,
      "outputs": [
        {
          "output_type": "stream",
          "text": [
            "enter your salary : 255550\n",
            "total tax= 12777.5\n"
          ],
          "name": "stdout"
        }
      ]
    },
    {
      "cell_type": "markdown",
      "metadata": {
        "id": "npJTm9S3udgT",
        "colab_type": "text"
      },
      "source": [
        "7.\tTake a list of integers as an argument, and converts it into a single integer (return the integer)."
      ]
    },
    {
      "cell_type": "code",
      "metadata": {
        "id": "DldQnY7Luh57",
        "colab_type": "code",
        "colab": {
          "base_uri": "https://localhost:8080/",
          "height": 101
        },
        "outputId": "70a07db6-08c5-4998-c487-76bafb7f3b8f"
      },
      "source": [
        "n=int(input(\"enter the length of list : \"))\n",
        "l=[]\n",
        "for i in range(n):\n",
        " x=int(input())\n",
        " l.append(x)\n",
        " l[i]=str(l[i])\n",
        "print(\"The list as single element\",''.join(l))"
      ],
      "execution_count": null,
      "outputs": [
        {
          "output_type": "stream",
          "text": [
            "enter the length of list : 3\n",
            "11\n",
            "33\n",
            "50\n",
            "The list as single element 113350\n"
          ],
          "name": "stdout"
        }
      ]
    },
    {
      "cell_type": "markdown",
      "metadata": {
        "id": "qi0sBgvQvKF6",
        "colab_type": "text"
      },
      "source": [
        "8.\tUnits of Time\n",
        "Create a program that reads duration from the user as a number of days, hours, minutes, and seconds. Compute and display the total number of seconds represented by this duration. \n"
      ]
    },
    {
      "cell_type": "code",
      "metadata": {
        "id": "FT544ictniyu",
        "colab_type": "code",
        "colab": {
          "base_uri": "https://localhost:8080/",
          "height": 101
        },
        "outputId": "6d830314-31c3-4bdf-b86a-02fa84469494"
      },
      "source": [
        "day=int(input(\"enter number of days : \"))\n",
        "hr=int(input(\"enter number of hours : \"))\n",
        "m=int(input(\"enter number of minutes : \"))\n",
        "sec=int(input(\"enter number of seconds : \"))\n",
        "time=(day*60*60*24)+(hr*60*60)+(m*60)+sec\n",
        "print(\"Total duration in seconds:\",time)"
      ],
      "execution_count": null,
      "outputs": [
        {
          "output_type": "stream",
          "text": [
            "enter number of days : 2\n",
            "enter number of hours : 8\n",
            "enter number of minutes : 45\n",
            "enter number of seconds : 32\n",
            "Total duration in seconds: 204332\n"
          ],
          "name": "stdout"
        }
      ]
    },
    {
      "cell_type": "markdown",
      "metadata": {
        "id": "-WVomD43oA6S",
        "colab_type": "text"
      },
      "source": [
        "9.\tSort 3 Integers\n",
        "Given three integers (given through user input), sort the numbers using |min| and  |max| functions.\n"
      ]
    },
    {
      "cell_type": "code",
      "metadata": {
        "id": "CRnNKmDMvyMC",
        "colab_type": "code",
        "colab": {
          "base_uri": "https://localhost:8080/",
          "height": 84
        },
        "outputId": "d7264232-53a7-4c4a-b8f9-c46d4b9440ea"
      },
      "source": [
        "a=int(input(\"enter first number : \"))\n",
        "b=int(input(\"enter second number : \"))\n",
        "c=int(input(\"enter third number : \"))\n",
        "ma=max(a,b,c)\n",
        "mi=min(a,b,c)\n",
        "n=a+b+c-(mi+ma)\n",
        "print(\"The sorted numbers are:\",mi,n,ma)"
      ],
      "execution_count": null,
      "outputs": [
        {
          "output_type": "stream",
          "text": [
            "enter first number : 10\n",
            "enter second number : 30\n",
            "enter third number : 5\n",
            "The sorted numbers are: 5 10 30\n"
          ],
          "name": "stdout"
        }
      ]
    },
    {
      "cell_type": "markdown",
      "metadata": {
        "id": "ovtoSiYbz93D",
        "colab_type": "text"
      },
      "source": [
        "10.\tWrite a program that reads a date from the user and computes its immediate successor. The date is the format YYYY-MM-DD. So, 2020-04-15 will have the successor 2020-04-16."
      ]
    },
    {
      "cell_type": "code",
      "metadata": {
        "id": "pSGtvgVK0DQp",
        "colab_type": "code",
        "colab": {
          "base_uri": "https://localhost:8080/",
          "height": 84
        },
        "outputId": "af8c699b-e98b-4fd1-a0bd-890724a84d40"
      },
      "source": [
        "y=int(input(\"enter year : \"))\n",
        "m=int(input(\"enter month : \"))\n",
        "d=int(input(\"enter day : \"))\n",
        "if m in (1,3,5,7,8,10,12):\n",
        " ld=31\n",
        "elif m==2:\n",
        "  if y%4==0:\n",
        "    ld=29\n",
        "  else :\n",
        "    ld=28\n",
        "else :\n",
        "   ld=30\n",
        "if d<ld:\n",
        "   d+=1\n",
        "else :\n",
        "   d=1\n",
        "if m==31:\n",
        "   m=1\n",
        "   y+=1\n",
        "else :\n",
        "   m+=1\n",
        "print(\"The next day date is:\",y,'-',m,'-',d)"
      ],
      "execution_count": null,
      "outputs": [
        {
          "output_type": "stream",
          "text": [
            "enter year : 2020\n",
            "enter month : 04\n",
            "enter day : 15\n",
            "The next day date is: 2020 - 5 - 16\n"
          ],
          "name": "stdout"
        }
      ]
    },
    {
      "cell_type": "markdown",
      "metadata": {
        "id": "_e5-XSxf0_dZ",
        "colab_type": "text"
      },
      "source": [
        "11.\tCompute product of a list of numbers [45 ,3,2,89,72,1,10,7]\n",
        "Output: 121111200\n"
      ]
    },
    {
      "cell_type": "code",
      "metadata": {
        "id": "dMZXoqH91D0x",
        "colab_type": "code",
        "colab": {
          "base_uri": "https://localhost:8080/",
          "height": 34
        },
        "outputId": "19682a0c-9d58-4e11-cc0d-389600e1b9a0"
      },
      "source": [
        "l=[45,3,2,89,72,1,10,7]\n",
        "p=1\n",
        "for i in l:\n",
        "  p*=i\n",
        "print(\"Product of the numbers in list is \",p)"
      ],
      "execution_count": null,
      "outputs": [
        {
          "output_type": "stream",
          "text": [
            "Product of the numbers in list is  121111200\n"
          ],
          "name": "stdout"
        }
      ]
    },
    {
      "cell_type": "markdown",
      "metadata": {
        "id": "mTqibuqQ1KsS",
        "colab_type": "text"
      },
      "source": [
        "12.\tCompute given Num_list =  [5, 6,8 ,34,89,1] to get desired output\n",
        "Output: Out_list=[11,14,42,123,90]"
      ]
    },
    {
      "cell_type": "code",
      "metadata": {
        "id": "w-op1RfR1opC",
        "colab_type": "code",
        "colab": {
          "base_uri": "https://localhost:8080/",
          "height": 34
        },
        "outputId": "fd427748-33be-4f8a-a162-1ea9f238aaae"
      },
      "source": [
        "il=[5,6,8,34,89,1]\n",
        "ol=[]\n",
        "for i in range(1,len(il)):\n",
        " s=il[i]+il[i-1]\n",
        " ol.append(s)    \n",
        "print(\"The output list is \",ol)"
      ],
      "execution_count": null,
      "outputs": [
        {
          "output_type": "stream",
          "text": [
            "The output list is  [11, 14, 42, 123, 90]\n"
          ],
          "name": "stdout"
        }
      ]
    },
    {
      "cell_type": "markdown",
      "metadata": {
        "id": "f-1hjoPk2JyZ",
        "colab_type": "text"
      },
      "source": [
        "13.\t Compute given Num_tuple =  (5, 6,8 ,3,9,1) to get desired output\n",
        "Output: Out_list = [5, 30, 240, 720, 6480, 6480]"
      ]
    },
    {
      "cell_type": "code",
      "metadata": {
        "id": "MEIDzktt2Nrh",
        "colab_type": "code",
        "colab": {
          "base_uri": "https://localhost:8080/",
          "height": 34
        },
        "outputId": "fa3df530-2315-4ae8-a83b-124517441073"
      },
      "source": [
        "t=(5,6,8,3,9,1)\n",
        "l=[]\n",
        "n=1\n",
        "for i in t:\n",
        "  n*=i\n",
        "  l.append(n)\n",
        "print(\"The output list is \",l)"
      ],
      "execution_count": null,
      "outputs": [
        {
          "output_type": "stream",
          "text": [
            "The output list is  [5, 30, 240, 720, 6480, 6480]\n"
          ],
          "name": "stdout"
        }
      ]
    },
    {
      "cell_type": "markdown",
      "metadata": {
        "id": "6WIuBZKb3eAk",
        "colab_type": "text"
      },
      "source": [
        "14. Write a Python code that takes a number and returns a list of its digits. So for 586392 it should return [5,8,6,3,9,2]"
      ]
    },
    {
      "cell_type": "code",
      "metadata": {
        "id": "nu-gFAXq4GxD",
        "colab_type": "code",
        "colab": {
          "base_uri": "https://localhost:8080/",
          "height": 50
        },
        "outputId": "063c46c6-a107-4a6c-8508-555066ff4f3e"
      },
      "source": [
        "n=int(input(\"enter a number : \"))\n",
        "l=[]\n",
        "for i in str(n):\n",
        " l.append(int(i))\n",
        "print(\"The output list is \",l)"
      ],
      "execution_count": null,
      "outputs": [
        {
          "output_type": "stream",
          "text": [
            "enter a number : 586392\n",
            "The output list is  [5, 8, 6, 3, 9, 2]\n"
          ],
          "name": "stdout"
        }
      ]
    },
    {
      "cell_type": "markdown",
      "metadata": {
        "id": "lFLC0nbI4UEB",
        "colab_type": "text"
      },
      "source": [
        "15.\tWrite a program that finds the longest palindromic substring of a given string"
      ]
    },
    {
      "cell_type": "code",
      "metadata": {
        "id": "97C-TbAm4Xs5",
        "colab_type": "code",
        "colab": {
          "base_uri": "https://localhost:8080/",
          "height": 50
        },
        "outputId": "19fceea8-44c0-4a58-d7f2-2a9a2a2d79f5"
      },
      "source": [
        "class Solution(object):\n",
        "   def longestPalindrome(self, s):\n",
        "      dp = [[False for i in range(len(s))] for i in range(len(s))]\n",
        "      for i in range(len(s)):\n",
        "         dp[i][i] = True\n",
        "      max_length = 1\n",
        "      start = 0\n",
        "      for l in range(2,len(s)+1):\n",
        "         for i in range(len(s)-l+1):\n",
        "            end = i+l\n",
        "            if l==2:\n",
        "               if s[i] == s[end-1]:\n",
        "                  dp[i][end-1]=True\n",
        "                  max_length = l\n",
        "                  start = i\n",
        "            else:\n",
        "               if s[i] == s[end-1] and dp[i+1][end-2]:\n",
        "                  dp[i][end-1]=True\n",
        "                  max_length = l\n",
        "                  start = i\n",
        "      return s[start:start+max_length]\n",
        "s=input(\"enter a string:\")\n",
        "ob1 = Solution()\n",
        "print(ob1.longestPalindrome(s))"
      ],
      "execution_count": null,
      "outputs": [
        {
          "output_type": "stream",
          "text": [
            "enter a string:billi\n",
            "illi\n"
          ],
          "name": "stdout"
        }
      ]
    },
    {
      "cell_type": "markdown",
      "metadata": {
        "id": "IZcAwOvE4wNq",
        "colab_type": "text"
      },
      "source": [
        "16.\t Substring Check (Bug Funny)\n",
        "Given two binary strings, A (of length 10) and B (of length 5), output 1 if B is a substring of A and 0 otherwise.\n",
        "First two lines of input:\n",
        "\n",
        "1010110010              10110\n",
        "\n",
        "1110111011              10011\n",
        "First two lines of output:\n",
        "1\n",
        "0\n",
        "\n"
      ]
    },
    {
      "cell_type": "code",
      "metadata": {
        "id": "VFI4lx1e40zx",
        "colab_type": "code",
        "colab": {
          "base_uri": "https://localhost:8080/",
          "height": 67
        },
        "outputId": "93d75a27-8d7c-4e94-d380-8b1b01191222"
      },
      "source": [
        "s=input(\"enter a binary string : \")\n",
        "ss=input(\"enter a binary substring : \")\n",
        "if ss in s:\n",
        " print(\"1\")\n",
        "else:\n",
        " print(\"0\")"
      ],
      "execution_count": null,
      "outputs": [
        {
          "output_type": "stream",
          "text": [
            "enter a binary string : 1010110010\n",
            "enter a binary substring : 10110\n",
            "1\n"
          ],
          "name": "stdout"
        }
      ]
    },
    {
      "cell_type": "markdown",
      "metadata": {
        "id": "BZv0j3595-Rt",
        "colab_type": "text"
      },
      "source": [
        "17.\t  POUR1 - Pouring water\n",
        "Given two vessels, one of which can accommodate a litres of water and the other - b litres of water, determine the number of steps required to obtain exactly c litres of water in one of the vessels.\n",
        "At the beginning both vessels are empty. The following operations are counted as 'steps':\n",
        "•\temptying a vessel,\n",
        "•\tfilling a vessel,\n",
        "•\tpouring water from one vessel to the other, without spilling, until one of the vessels is either full or empty.\n",
        "Input\n",
        "An integer t, 1<=t<=100, denoting the number of testcases , followed by t sets of input data, each consisting of three positive integers a, b, c, not larger than 40000, given in separate lines.\n",
        "Output\n",
        "For each set of input data, output the minimum number of steps required to obtain c litres, or -1 if this is impossible.\n"
      ]
    },
    {
      "cell_type": "code",
      "metadata": {
        "id": "HrOoyp_WvJ2D",
        "colab_type": "code",
        "colab": {
          "base_uri": "https://localhost:8080/",
          "height": 101
        },
        "outputId": "e3a74689-aed9-4120-cb5e-d6fa5edd2ec3"
      },
      "source": [
        "def gcd(a,b):\n",
        "    if b==0: \n",
        "        return a \n",
        "    return gcd(b,a%b) \n",
        "def countsteps(a,b,c): \n",
        "    v1=b\n",
        "    v2=0\n",
        "    count=1\n",
        "    while ((v1 is not c) and (v2 is not c)): \n",
        "        temp=min(v1,a-v2) \n",
        "        v2=v2+temp \n",
        "        v1=v1-temp \n",
        "        count=count+1\n",
        "        if ((v2==c)or(v1==c)): \n",
        "            break\n",
        "        if v1==0: \n",
        "            v1=b \n",
        "            count=count+1\n",
        "        if v2==a: \n",
        "            v2=0\n",
        "            count=count+1\n",
        "    return count \n",
        "def ispossible(a,b,c): \n",
        "    if a>b: \n",
        "        temp=a \n",
        "        a=b \n",
        "        b=temp \n",
        "    if c>b: \n",
        "        return -1\n",
        "    if (c%(gcd(b,a)) is not 0): \n",
        "        return -1\n",
        "    return(min(countsteps(b,a,c),countsteps(a,b,c)))\n",
        "t=int(input(\"Enter no of testcases : \"))\n",
        "for i in range(t):\n",
        "  a=int(input(\"Enter capacity of vessel a : \"))\n",
        "  b=int(input(\"Enter capacity of vessel b : \"))\n",
        "  c=int(input(\"Enter capacity to be obtained :\"))\n",
        "  print(\"Minimum number of steps required is : \",ispossible(a,b,c))"
      ],
      "execution_count": null,
      "outputs": [
        {
          "output_type": "stream",
          "text": [
            "Enter no of testcases : 1\n",
            "Enter capacity of vessel a : 2\n",
            "Enter capacity of vessel b : 3\n",
            "Enter capacity to be obtained :2\n",
            "Minimum number of steps required is :  1\n"
          ],
          "name": "stdout"
        }
      ]
    }
  ]
}